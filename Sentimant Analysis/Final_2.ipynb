{
  "nbformat": 4,
  "nbformat_minor": 0,
  "metadata": {
    "colab": {
      "name": "Untitled2.ipynb",
      "provenance": []
    },
    "kernelspec": {
      "name": "python3",
      "display_name": "Python 3"
    },
    "language_info": {
      "name": "python"
    },
    "accelerator": "TPU"
  },
  "cells": [
    {
      "cell_type": "code",
      "metadata": {
        "colab": {
          "base_uri": "https://localhost:8080/"
        },
        "id": "YDEdm_5ldWpc",
        "outputId": "94346529-7346-4806-d8a6-a8d685680412"
      },
      "source": [
        "!pip install transformers"
      ],
      "execution_count": 2,
      "outputs": [
        {
          "output_type": "stream",
          "text": [
            "Collecting transformers\n",
            "\u001b[?25l  Downloading https://files.pythonhosted.org/packages/d5/43/cfe4ee779bbd6a678ac6a97c5a5cdeb03c35f9eaebbb9720b036680f9a2d/transformers-4.6.1-py3-none-any.whl (2.2MB)\n",
            "\u001b[K     |████████████████████████████████| 2.3MB 2.3MB/s \n",
            "\u001b[?25hRequirement already satisfied: tqdm>=4.27 in /usr/local/lib/python3.7/dist-packages (from transformers) (4.41.1)\n",
            "Collecting tokenizers<0.11,>=0.10.1\n",
            "\u001b[?25l  Downloading https://files.pythonhosted.org/packages/d4/e2/df3543e8ffdab68f5acc73f613de9c2b155ac47f162e725dcac87c521c11/tokenizers-0.10.3-cp37-cp37m-manylinux_2_5_x86_64.manylinux1_x86_64.manylinux_2_12_x86_64.manylinux2010_x86_64.whl (3.3MB)\n",
            "\u001b[K     |████████████████████████████████| 3.3MB 24.8MB/s \n",
            "\u001b[?25hRequirement already satisfied: regex!=2019.12.17 in /usr/local/lib/python3.7/dist-packages (from transformers) (2019.12.20)\n",
            "Requirement already satisfied: packaging in /usr/local/lib/python3.7/dist-packages (from transformers) (20.9)\n",
            "Collecting huggingface-hub==0.0.8\n",
            "  Downloading https://files.pythonhosted.org/packages/a1/88/7b1e45720ecf59c6c6737ff332f41c955963090a18e72acbcbeac6b25e86/huggingface_hub-0.0.8-py3-none-any.whl\n",
            "Requirement already satisfied: importlib-metadata; python_version < \"3.8\" in /usr/local/lib/python3.7/dist-packages (from transformers) (4.0.1)\n",
            "Requirement already satisfied: numpy>=1.17 in /usr/local/lib/python3.7/dist-packages (from transformers) (1.19.5)\n",
            "Requirement already satisfied: filelock in /usr/local/lib/python3.7/dist-packages (from transformers) (3.0.12)\n",
            "Requirement already satisfied: requests in /usr/local/lib/python3.7/dist-packages (from transformers) (2.23.0)\n",
            "Collecting sacremoses\n",
            "\u001b[?25l  Downloading https://files.pythonhosted.org/packages/75/ee/67241dc87f266093c533a2d4d3d69438e57d7a90abb216fa076e7d475d4a/sacremoses-0.0.45-py3-none-any.whl (895kB)\n",
            "\u001b[K     |████████████████████████████████| 901kB 36.6MB/s \n",
            "\u001b[?25hRequirement already satisfied: pyparsing>=2.0.2 in /usr/local/lib/python3.7/dist-packages (from packaging->transformers) (2.4.7)\n",
            "Requirement already satisfied: zipp>=0.5 in /usr/local/lib/python3.7/dist-packages (from importlib-metadata; python_version < \"3.8\"->transformers) (3.4.1)\n",
            "Requirement already satisfied: typing-extensions>=3.6.4; python_version < \"3.8\" in /usr/local/lib/python3.7/dist-packages (from importlib-metadata; python_version < \"3.8\"->transformers) (3.7.4.3)\n",
            "Requirement already satisfied: idna<3,>=2.5 in /usr/local/lib/python3.7/dist-packages (from requests->transformers) (2.10)\n",
            "Requirement already satisfied: chardet<4,>=3.0.2 in /usr/local/lib/python3.7/dist-packages (from requests->transformers) (3.0.4)\n",
            "Requirement already satisfied: certifi>=2017.4.17 in /usr/local/lib/python3.7/dist-packages (from requests->transformers) (2020.12.5)\n",
            "Requirement already satisfied: urllib3!=1.25.0,!=1.25.1,<1.26,>=1.21.1 in /usr/local/lib/python3.7/dist-packages (from requests->transformers) (1.24.3)\n",
            "Requirement already satisfied: six in /usr/local/lib/python3.7/dist-packages (from sacremoses->transformers) (1.15.0)\n",
            "Requirement already satisfied: joblib in /usr/local/lib/python3.7/dist-packages (from sacremoses->transformers) (1.0.1)\n",
            "Requirement already satisfied: click in /usr/local/lib/python3.7/dist-packages (from sacremoses->transformers) (7.1.2)\n",
            "Installing collected packages: tokenizers, huggingface-hub, sacremoses, transformers\n",
            "Successfully installed huggingface-hub-0.0.8 sacremoses-0.0.45 tokenizers-0.10.3 transformers-4.6.1\n"
          ],
          "name": "stdout"
        }
      ]
    },
    {
      "cell_type": "code",
      "metadata": {
        "colab": {
          "base_uri": "https://localhost:8080/"
        },
        "id": "rgoLb6XjgKjn",
        "outputId": "221ab803-a4a5-4066-974b-930ccecbd029"
      },
      "source": [
        "!pip install sentencepiece"
      ],
      "execution_count": 3,
      "outputs": [
        {
          "output_type": "stream",
          "text": [
            "Collecting sentencepiece\n",
            "\u001b[?25l  Downloading https://files.pythonhosted.org/packages/f5/99/e0808cb947ba10f575839c43e8fafc9cc44e4a7a2c8f79c60db48220a577/sentencepiece-0.1.95-cp37-cp37m-manylinux2014_x86_64.whl (1.2MB)\n",
            "\u001b[K     |████████████████████████████████| 1.2MB 2.3MB/s \n",
            "\u001b[?25hInstalling collected packages: sentencepiece\n",
            "Successfully installed sentencepiece-0.1.95\n"
          ],
          "name": "stdout"
        }
      ]
    },
    {
      "cell_type": "code",
      "metadata": {
        "colab": {
          "resources": {
            "http://localhost:8080/nbextensions/google.colab/files.js": {
              "data": "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",
              "ok": true,
              "headers": [
                [
                  "content-type",
                  "application/javascript"
                ]
              ],
              "status": 200,
              "status_text": "OK"
            }
          },
          "base_uri": "https://localhost:8080/",
          "height": 74
        },
        "id": "A2pXng0WqVsV",
        "outputId": "e5bd6867-b293-4b39-cbd4-3ae1dc16102c"
      },
      "source": [
        "from google.colab import files\n",
        "\n",
        "\n",
        "uploaded = files.upload()\n"
      ],
      "execution_count": 5,
      "outputs": [
        {
          "output_type": "display_data",
          "data": {
            "text/html": [
              "\n",
              "     <input type=\"file\" id=\"files-0da7126f-70d9-4eed-80fc-163535c4854b\" name=\"files[]\" multiple disabled\n",
              "        style=\"border:none\" />\n",
              "     <output id=\"result-0da7126f-70d9-4eed-80fc-163535c4854b\">\n",
              "      Upload widget is only available when the cell has been executed in the\n",
              "      current browser session. Please rerun this cell to enable.\n",
              "      </output>\n",
              "      <script src=\"/nbextensions/google.colab/files.js\"></script> "
            ],
            "text/plain": [
              "<IPython.core.display.HTML object>"
            ]
          },
          "metadata": {
            "tags": []
          }
        },
        {
          "output_type": "stream",
          "text": [
            "Saving CleanedDataSet.csv to CleanedDataSet.csv\n"
          ],
          "name": "stdout"
        }
      ]
    },
    {
      "cell_type": "code",
      "metadata": {
        "colab": {
          "base_uri": "https://localhost:8080/"
        },
        "id": "vjs-6i1oqmQ5",
        "outputId": "5590aa8c-6b50-4b1a-efd3-f1084abf8d2e"
      },
      "source": [
        "import pandas as pd\n",
        "import io\n",
        "  \n",
        "df = pd.read_csv(io.BytesIO(uploaded['CleanedDataSet.csv']))\n",
        "print(df)"
      ],
      "execution_count": 6,
      "outputs": [
        {
          "output_type": "stream",
          "text": [
            "                                                 Tweet  ...   feeling\n",
            "0                 طلالة أنيقة وانثوية مجموعة لخريفشتاء  ...  positive\n",
            "1                       خر صيحة حقائب اليد فندي وغوتشي  ...   neutral\n",
            "2    تشرف باري_غاليري بدعوتكم لحضور ومقابلة نجوى_مح...  ...  positive\n",
            "3    ستايلبنطال نامجون الجينز لصور بسعرجنيه استرلين...  ...   neutral\n",
            "4    RTكريس Idolازياء كريس جميعها بربري المجموعه ال...  ...   neutral\n",
            "..                                                 ...  ...       ...\n",
            "657  رق لحذف الملفات المستعصية الحذف برامج احيانا ت...  ...   neutral\n",
            "658  رح فيديو مهم جدا حل لمشاكل الكومبيوتر تقوم بتص...  ...   neutral\n",
            "659        ورة مسربة لـ فونتوضح شكل الأيقونات الرئيسية  ...   neutral\n",
            "660                                                ورة  ...   neutral\n",
            "661                                              مسربة  ...   neutral\n",
            "\n",
            "[662 rows x 8 columns]\n"
          ],
          "name": "stdout"
        }
      ]
    },
    {
      "cell_type": "code",
      "metadata": {
        "colab": {
          "base_uri": "https://localhost:8080/"
        },
        "id": "zzsyyfHDp06p",
        "outputId": "de05b544-e5dc-4a8b-c9b5-729c5157fb0a"
      },
      "source": [
        "from sklearn.preprocessing import LabelEncoder\n",
        "y = LabelEncoder().fit_transform(df['ISRI_Stemmer'])\n",
        "print(len(y))\n",
        "y"
      ],
      "execution_count": 27,
      "outputs": [
        {
          "output_type": "stream",
          "text": [
            "662\n"
          ],
          "name": "stdout"
        },
        {
          "output_type": "execute_result",
          "data": {
            "text/plain": [
              "array([328, 174, 281, 255,   2, 342, 393, 115, 380, 321, 320, 611, 600,\n",
              "        50, 547, 177, 175, 119,  72, 324, 453, 411, 491,  29, 221, 588,\n",
              "        52, 525, 513, 418,  34, 344, 553, 295, 149,  95,  86, 354,   4,\n",
              "        79, 469,  85, 659, 256, 581, 330, 187, 420, 399, 602, 594, 593,\n",
              "       247, 404, 103, 392,  80, 318, 517, 519, 439, 317,  82, 654, 126,\n",
              "       474, 283, 492, 577, 352,  24, 573, 508, 490, 307,  48, 583,  33,\n",
              "       171, 253, 252, 479, 326, 614, 613, 134, 215, 563, 559, 278, 621,\n",
              "       515, 648, 210,  45, 216,  53, 155, 160, 504, 335,  83, 341, 415,\n",
              "       534, 475,  73, 541, 271, 102, 572, 423, 163, 482, 350, 217, 188,\n",
              "       353, 282, 571, 528,  10, 288, 578, 407, 312, 183, 331, 173,  55,\n",
              "       421, 308, 165, 549, 169, 152, 574,  87, 170, 402, 273,  66, 591,\n",
              "       306, 576, 518, 140, 178, 362, 285, 122, 533, 633, 561, 499, 186,\n",
              "       582, 610,  68, 575, 181, 289, 472, 254, 585, 537, 539, 227, 597,\n",
              "       390,  63, 196, 435, 172,  60,  58, 543, 108,  62, 384, 244, 580,\n",
              "       193, 383, 382, 199, 388, 211, 406, 198, 239,  22, 538, 465, 426,\n",
              "       389, 343, 100, 270,  59,  61,  57, 385, 266, 260, 231, 386, 272,\n",
              "        88, 493, 351, 606, 240,  32, 554, 245,  56, 261, 445, 214, 236,\n",
              "       466, 184, 194, 646, 150, 297, 164,  93,  26, 428, 485, 424,  94,\n",
              "       190, 197,  69, 195, 431, 368, 436, 232, 189, 156, 480,  77, 191,\n",
              "       409, 405, 192, 391, 200, 557,  74, 437, 279,  15, 387, 579,  92,\n",
              "       558, 110, 535, 356, 548, 495, 299,  90,  25, 145, 364, 645, 345,\n",
              "       500, 118,  46,  89, 623, 365, 363, 366, 635, 117, 336, 107, 148,\n",
              "       540, 123, 131, 544, 498, 403, 105, 616, 601,  20,   8, 371, 287,\n",
              "       141, 589, 124, 144, 355, 410, 443,   7, 494, 595, 361, 617, 569,\n",
              "       157, 497, 224, 337, 159,  81, 448, 618, 634,  44, 542,  51, 564,\n",
              "       129,  36, 417, 158, 459, 449, 510, 622,  75, 264, 456, 168, 179,\n",
              "       203, 620, 419, 568,  30, 567, 551, 619, 501,  37, 521, 615, 520,\n",
              "       398, 397, 263, 369, 137, 452, 396,  31, 265, 484,   6, 425, 434,\n",
              "       467, 550,  40, 552,  91, 586, 151, 660, 531, 562, 276, 291, 161,\n",
              "       303,  65, 112,   0, 125, 394, 204, 422, 185,  71,  40, 348, 113,\n",
              "        41, 370, 139, 274,  43, 470, 532, 130, 545, 455, 309, 483,   9,\n",
              "       138, 249, 458, 657,  38, 512, 447, 143, 304, 367,  42, 395, 468,\n",
              "       587, 212,  78, 201, 381, 293, 556, 655, 644, 526, 400, 429, 292,\n",
              "       604, 454, 430, 378, 376, 209, 605,  84, 372, 457, 360, 590, 460,\n",
              "       524, 349,  28,  96,  18, 656,  17, 357, 486, 250, 592, 461, 527,\n",
              "       506,  47, 427, 503, 464,  21,  27, 300, 570, 322, 555, 432, 332,\n",
              "        76, 127,  13, 346, 234, 275, 262, 471, 640, 529,  39, 450, 642,\n",
              "       584, 339, 463, 560, 359,  23, 128, 624, 516, 401, 408,  12, 641,\n",
              "         3, 109, 226, 473,  70, 120, 476, 373, 136, 514, 101, 481, 310,\n",
              "        11, 496, 358, 374, 135, 251, 444, 530, 223, 258, 268, 238, 536,\n",
              "       228, 202, 627, 296, 333, 412, 643, 509, 286, 658, 507, 637, 246,\n",
              "       290, 213, 505, 639, 241, 511, 116, 329, 638,  54, 121, 233, 147,\n",
              "       416, 446, 114, 626, 106, 636,  49, 294, 375, 207, 414, 347, 451,\n",
              "       259, 523, 176, 608, 377, 313, 612, 180,   1, 142, 314, 237, 649,\n",
              "       182, 133, 603, 319, 488, 315, 316, 596,  19, 632, 167, 625, 166,\n",
              "       111, 652, 225, 599, 305, 653, 607, 478, 206, 153, 379, 327, 338,\n",
              "       489, 487, 277, 647, 413, 269,  67, 267, 609, 230, 222, 301, 235,\n",
              "       243, 284,  98, 340, 311, 280, 522, 441,  35, 442, 132,  97, 218,\n",
              "       651, 334, 433, 298, 598, 629, 146, 248,  14, 650, 546, 219,   5,\n",
              "       302, 462,  16,  99, 628, 631, 104, 438, 205, 208, 502, 162, 477,\n",
              "        64, 154, 630, 440, 323, 242, 325, 229, 220, 566, 565, 257])"
            ]
          },
          "metadata": {
            "tags": []
          },
          "execution_count": 27
        }
      ]
    },
    {
      "cell_type": "code",
      "metadata": {
        "id": "tTsEJ9-dqynJ"
      },
      "source": [
        "from sklearn.model_selection import train_test_split\n",
        "X = df['ISRI_Stemmer']\n",
        "X_train, X_test, y_train, y_test= train_test_split(X,y,test_size=0.2)"
      ],
      "execution_count": 8,
      "outputs": []
    },
    {
      "cell_type": "code",
      "metadata": {
        "colab": {
          "base_uri": "https://localhost:8080/"
        },
        "id": "gfnwZPwlrrv6",
        "outputId": "dffa3662-07f0-477f-ac24-c9ad8807ade0"
      },
      "source": [
        "import nltk\n",
        "nltk.download('punkt')"
      ],
      "execution_count": 14,
      "outputs": [
        {
          "output_type": "stream",
          "text": [
            "[nltk_data] Downloading package punkt to /root/nltk_data...\n",
            "[nltk_data]   Unzipping tokenizers/punkt.zip.\n"
          ],
          "name": "stdout"
        },
        {
          "output_type": "execute_result",
          "data": {
            "text/plain": [
              "True"
            ]
          },
          "metadata": {
            "tags": []
          },
          "execution_count": 14
        }
      ]
    },
    {
      "cell_type": "code",
      "metadata": {
        "colab": {
          "base_uri": "https://localhost:8080/"
        },
        "id": "0Du35y-nq4eO",
        "outputId": "6d9efc79-c7f6-4f48-934c-cc2c737d09aa"
      },
      "source": [
        "from gensim.models import Word2Vec\n",
        "\n",
        "from nltk.tokenize import word_tokenize\n",
        "\n",
        "\n",
        "model = Word2Vec(X_train.apply(word_tokenize), min_count=1, size=100)\n",
        "w2v = dict(zip(model.wv.index2word,model.wv.syn0))\n",
        "\n",
        "print(model)\n",
        "\n",
        "words = list(model.wv.vocab)\n",
        "print(words)\n",
        "\n",
        "\n",
        "model.save('model.bin')\n",
        "\n",
        "new_model = Word2Vec.load('model.bin')\n",
        "print(new_model)\n"
      ],
      "execution_count": 15,
      "outputs": [
        {
          "output_type": "stream",
          "text": [
            "Word2Vec(vocab=2192, size=100, alpha=0.025)\n",
            "['نوت', 'عهر', 'عرب', 'عرف', 'بان', 'قدم', 'نفس', 'طلع', 'راي', 'بين', 'الذ', 'حدث', 'صنعاء', 'ساط_أحمدي', 'دهش', 'صدف', 'سور', 'ثيقف', 'ريد', 'عفش', 'بضع', 'كلم', 'علم', 'ثقف', 'عمك', 'وصل', 'ثلث', 'نهي', 'ورا', 'ستر', 'علي', 'اجل', 'تتح', 'بيت', 'ناس', 'اعل', 'شرك', 'جهز', 'هوم', 'عبر', 'حكم', 'صوت', 'شهد', 'جزءم', 'نظر', 'ترشح', 'رئاسةالأمريكيةالديمواقراطية', 'جمهور', 'دونالد', 'بغض', 'ظرعم', 'يفز', 'عاي', 'خال', 'ؤمن', 'لبد', 'وان', 'تكون', 'خلت', 'جولد', 'ائر', 'عمت', 'تسب', 'ليف', 'رضع', 'ه', 'رفا', 'اين', 'ير', 'احط', 'تفق', 'اخو', 'لعل', 'دعش', 'ليم', 'خدم', 'خريط', 'ولا', 'صاد', 'قاعدةاستخدم', 'ايف', 'كلب', 'قفل', 'ربع', 'كنا', 'كسب', 'عظم', 'فعل', 'اتش', 'ده', 'رمب', 'شخص', 'صلح', 'رئس', 'دولةالرجل', 'يمل', 'كاريز', 'رؤساء', 'وضح', 'انه', 'بنت', 'رجل', 'عند', 'نز', 'تما', 'وقت', 'غاي', 'ديبال', 'كرانيفيتير', 'بقة', 'جرب', 'سجم', 'لعب', 'بعض', 'بعد', 'ديناصور', 'رأس', 'كرر', 'فضح', 'لنش', 'اول', 'ردي', 'قبل', 'سدل', 'سبع', 'ارس', 'كانت', 'عني', 'مش', 'زي', 'مور', 'دي', 'تقل', 'تضف', 'برل', 'اند', 'ساوندالجاريدبيالخليجأعلنت', 'فرانكفورت', 'شرق', 'وسط', 'طلق', 'هدف', 'باراغواي', 'رجع', 'نغم', 'احب', 'ذكر', 'العب', 'شيليف', 'دور', 'جمع', 'كوب', 'وفز', 'ارجنتينولعب', 'ديد', 'جزئ', 'ننو', 'مرض', 'سرط', 'فزت', 'مرأ', 'امر', 'نخب', 'ولي', 'تحد', 'عام', 'يلد', 'ب', 'بدل', 'سف', 'اعد', 'قرء', 'جدد', 'لذلك', 'عشن', 'اكن', 'كثر', 'حمر', 'تحط', 'اسم', 'غرد', 'وحد', 'عدة', 'جحلط', 'ههه', 'رجم', 'عزم', 'بنء', 'حسب', 'خرق', 'يفق', 'قدر', 'حواسيب', 'حاليةملي', 'مرة', 'ساسة_بوست', 'وح', 'بهل', 'ودع', 'ولى', 'وموترامب', 'لان', 'بيك', 'افي', 'نت', 'اشم', 'فيك', 'ذيك', 'سعة', 'لهم', 'نصر', 'سلف', 'وهب', 'شيع', 'رفض', 'ركز', 'لسل', 'يب', 'ارز', 'سون', 'ظءء', 'شرب', 'يشل', 'ولد', 'مدر', 'وش', 'افضل_طقم_لروجر_فيدرروفي', 'طقم', 'بنك', 'ام', 'مال', 'عمل', 'يدو', 'صين', 'ذكة', 'رهن', 'جلس', 'حكماء', 'إعلام', 'سقط', 'أوصل', 'لسد', 'ابيضوبتوقيت', 'جيد', 'معد', 'سبق', 'دخل', 'فتة', 'قرت', 'صغر', 'خرط', 'غم', 'خليج', 'قولو', 'ريكينغ', 'انستقرام', 'كتر', 'كونو', 'غطي', 'سلسل', 'حضر', 'لجن', 'شعب', 'لتر', 'ويت', 'رسم', 'يعد', 'رمج', 'دمج', 'تعد', 'نسخ', 'ولل', 'كنت', 'بكر', 'واد', 'خول', 'يلفو', 'وكان', 'يخد', 'طيز', 'حجة', 'كبر', 'كتكو', 'شوة', 'هتيجب', 'ضعف', 'توم', 'فيل', 'بقص', 'حب', 'حقق', 'ميل', 'دوزو', 'صلي', 'مايكروسوفت', 'شكل', 'قنو', 'ربط', 'بشر', 'الل', 'محد', 'ورع', 'الا', 'انت', 'جاب', 'مصر', 'وشف', 'ايش', 'قلت', 'فضل_طقم_لروجر_فيدررأسترال', 'مجررررررررم', 'فلر', 'اسد', 'فخم', 'سعد', 'كوت', 'بحر', 'يمن', 'سلم', 'شيخ', 'بوت', 'عرك', 'منى', 'اني', 'اشف', 'كع', 'وفق', 'لسو', 'لبل', 'فقط', 'طلل', 'نيق', 'نثو', 'لخريفشتاء', 'درب', 'يوم', 'خمس', 'توقع', 'حصل', 'صرح', 'طبي', 'سبت', 'طر', 'مبو', 'يحك', 'طير', 'يلم', 'برك', 'ل', 'هيلارى', 'حفز', 'لدي', 'اقى', 'اي', 'ضىو', 'استراليا_المفتوحة', 'لنس', 'سحر', 'لزم', 'ضحل', 'مو', 'فلم', 'وثق', 'وضع', 'تفه', 'عاه', 'حمدلل', 'حالالل', 'جعل', 'جـو', 'ـئذ', 'نعم', 'لسع', 'رضي', 'جنة', 'عاليةقروب_خواطر_للدعمقر', 'صور', 'علب', 'كيج', 'تثر', 'هوس', 'نرن', 'نساءالسلعة', 'سطر', 'شجع', 'ايكل', 'جورد', 'بسم', 'صفق', 'ايم', 'حله', 'روجر_فيدرر', 'اعي', 'غنم', 'يقل', 'خلف', 'يلل', 'غير', 'لنم', 'يجف', 'فكر', 'تخل', 'قبع', 'الآ', 'دمغ', 'لى', 'اكس', 'وكس', 'غوميز', 'متع', 'وجد', 'حين', 'شيء', 'لال', 'ميلانيا_ترامب', 'ألق', 'صمم', 'بهظ', 'يه', 'ريح', 'غلي', 'كيب', 'ويندوزللهواتف', 'لمذ', 'ونل', 'تبع', 'فهد', 'غويرو', 'دعه', 'عزل', 'يخي', 'وذا', 'انع', 'خلص', 'منع', 'يتح', 'كلن', 'ذلكيتبع', 'ظهر', 'كـ', 'عمر', 'ونت', 'تبن', 'سبب', 'بطل', 'عجب', 'يسي', 'قعد', 'قلل', 'حترمو', 'الش', 'جزء', 'معجبنيش', 'سؤل', 'كمل', 'اخر', 'هيبق', 'زى', 'قرس', 'هات', 'يمر', 'جلد', 'اجلد', 'هلل', 'جاي', 'اهلي_برشلونه', 'عبة', 'FIFAمتاحة', 'الن', 'فون', 'علا', 'نست', 'اقل', 'قبلس', 'اختاه_موتي', 'رشح', 'قيد', 'بلد', 'خاه', 'ـعـ', 'شتيـاق', 'لهـ', 'عقـارب', 'ومع', 'دغـ', 'كـل', 'ثانيـ', 'تعيشهـاقروب_خواطر_للدعمقروب_فيدرر_للدعم', 'قل', 'هده', 'جماهير', 'مايسترو', 'روجير', 'يضل', 'اعب', 'مرهعلى', 'رغم', 'فتر', 'وسم', 'خار', 'مشي', 'حالكالفريق', 'أثر', 'غيب', 'فرق', 'اصل', 'دب', 'خلج', 'غوغل', 'حتفل', 'بعم', 'يفة', 'زلة', 'ورد', 'بيس', 'ودل', '_تب', 'اسس', 'Asusويندوز', 'قني', 'باسورد_بيوس', 'رازيل', 'رغو', 'كرستيانو', 'جزر', 'فار', 'درر', 'بقه', 'وقع', 'م', 'كوكب', 'دا', 'فات', 'سأل', 'قدش', 'عالمقديش', 'شيعيقديش', 'بلبنانولى', 'مين', 'قري', 'هل_ب', 'عرض', 'مزاجكعطر', 'جلت', 'بلك', 'نسء', 'بـريالتسوق', 'كانلس', 'فضل', 'ارخ', 'رقم', 'تثب', 'نحي', 'قرند', 'ماسترز', 'ولخ', 'لوم_وتكنولوجياغوغل', 'تعن', 'احد', 'فوق', 'الـ', 'عما', 'لديهاأقامت', 'بحث', 'كاسير', 'رئع', 'جدا', 'وقد', 'فجئ', 'كشخص', 'ثال', 'ابع', 'صبح', 'نور', 'درث', 'جنب', 'طلي', 'صرف', 'ثني', 'ديمقراطية', 'اليوم', 'تمامعصرا', 'بتو', 'علومة_بسيطةالتحميل', 'جوجل', 'بلي', 'بسهولةمعظم', 'يعا', 'حظر', 'فرض', 'زود', 'اري', 'كأس', 'خمر', 'وند', 'ترك', 'قدس', 'موت', 'بـ', 'حمل', 'قيم', 'اوف', 'ثرونز', 'ؤلء', 'صنع', 'خبر', 'يرن', 'فنن', 'حية', 'درم', 'هاري_بوتر', 'يرف', 'تقريباسريع', 'رام', 'ششة', 'وصف', 'ثلا', 'لمس', 'نفذ', 'حطن', 'فضل_طقم_لروجر_فيدرر', 'نخذ', 'انستغرام', 'نشر', 'برا', 'ارج', 'ڤمس', 'يلر', 'كلنتونمنافسي', 'طغة', 'دمر', 'بوتينروس', 'خخخ', 'عطو', 'اتر', 'وفك', 'عالمروجر', 'هاللعب', 'كفى', 'وغل', 'قيق', 'لشح', 'هتف', 'ميز', 'خرى', 'كنولوج', 'منت', 'سعوديه_الاماراتميسيماذا', 'صدق', 'فهدلميسي', 'عودة_بطل', 'فهد_المولدمنتخبنا_اولا', 'XPSبنظام', 'دوز_', 'نظم', 'LTSالاخبار_التقنية', 'نسي', 'ارك', 'معاساور', 'دبل', 'وكر', 'سعر', 'ريل', 'نجم', 'طفل', 'حقب', 'دوزل', 'ابد', 'خرب', 'بحس', 'ارهاب_صناعه_امريكيه_لاسعوديه', 'قانون_جاستامحمد', 'ملا', 'ونس', 'ولب', 'وغيرهامن', 'رهب', 'نشأ', 'برع', 'عطر', 'زهر', 'نقة', 'نوث', 'افه', 'عذر', 'مايكرو', 'ويندوزمعرب', 'وفي', 'كسبوكس', 'فورزاكتسكيته', 'لناالىحصري', 'نزل', 'وماتعربت', 'دني', 'خطيتو', 'اقر', 'كتب', 'ماسكيرانو', 'كرة', 'بكل', 'وقف', 'عدي', 'مسلمينلاتنتظر', 'سيس', 'عدل', 'نصف', 'اشي', 'شي', 'ويتسو_خبر', 'رنمج', 'قيس', 'سرع', 'أصبح', 'تاح', 'يندوزبمساحة', 'خزن', 'ضااايع', 'وبد', 'وهي', 'ملك', 'الع', 'مار', 'وبق', 'تكنولوجية', 'سوق', 'فهل', 'نجح', 'ويندوزوانه', 'بقي', 'ابليكيشنز', 'فيس', 'يتر', 'ماسنجر', 'حاج', 'حور', 'شبه', 'فشخ', 'للي', 'موبايل', 'ركم', 'ويندوزالمكتبي', 'جيج', 'بوف', 'ينل', 'جئز', 'ذهب', 'لعاممتفوقا', 'رتغال', 'رونالدو', 'لقء', 'روس', 'يحب', 'منح', 'فرص', 'سود', 'اوب', 'ولآ', 'ين', 'ستى', 'لصو', 'خطر', 'اطلاقهيلاري', 'دعم', 'رند', 'ادء', 'امريكاواسترالياو', 'خرفى', 'استراليافاينال', 'ورى', 'درس', 'لغي', 'دلوقتى', 'لخص', 'ضفت', 'قئم', 'شغل', 'بغا', 'فرج', 'وجب', 'حمى', 'كليكس', 'كشف', 'قرر', 'قسم', 'اخبارقراءة', 'IFA_', 'Swiftبنظام', 'اخبار_التقنية', 'لمن', 'نقل', 'ضاع', 'صندوق', 'واي', 'فاي', 'أرجاء', 'رح', 'ثبت', 'ويندوزالفورم', 'نصح', 'همه', 'ياس', 'توفر', 'ساك', 'عاى', 'تعب', 'دئر', 'طنز', 'وصر', 'وكل', 'شوي', 'شتر', 'مثل', 'نوف', 'ميكليس', 'موساتشيو', 'دفع', 'يسر', 'ايد', 'وغر', 'ضلل', 'غرا', 'يقف', 'علن', 'طبق', 'ملة', 'ؤكد', 'اسر', 'ارد', 'اصو', 'خصص', 'هيو', 'طرق', 'رقي', 'شقت', 'وفو', 'كيت', 'غوتش', 'ياا', 'لله', 'نعل', 'اهي', 'ميريديث', 'تزن', 'جدر', 'صفح', 'روي', 'وبة', 'ذهل', 'اوه', 'ماي', 'قاد', 'ريدم', 'ريلار', 'ونا', 'بسع', 'تخز', 'لانهائيةالتفاصيل', 'عقل', 'شما', 'تشب', 'بدق', 'حول', 'درويد', 'كمبيوتر', 'لتح', 'نكس', 'با', 'ذوق', 'ابو', 'صطف', 'عاد', 'وفر', 'حكي', 'ثااانيهافضل_طقم_لروجر_فيدرر', 'ماسترزللاسف', 'اعند', 'هيه', 'سوه', 'امس', 'وجل', 'رحل', 'نجا', 'الكترونية', 'استهلاكية', 'جمل', 'لأج', 'طلب', 'ونص', 'نبؤ', 'ويندوزومش', 'يهم', 'اجا', 'تطع', 'فوز', 'اسء', 'سيئ', 'ترى', 'ختر', 'عـم', 'كرستيانوهداف', 'تصف', 'عالمهداف', 'ابطالهداف', 'امم', 'ورب', 'ميسيهداف', 'غامبرمتخاذل', 'وخ', 'دوت', 'جني', 'جسس', 'ويندوزعلى', 'ادة', 'ويندوزمن', 'مايكروسوفتويندوز_', 'وقل', 'او', 'قول', 'رينقز', 'عنلاذرجي', 'بنص', 'حسس', 'انك', 'قفط', 'لأل', 'منذعام', 'رافائيل', 'ضمن', 'وئل', 'صنف', 'تنس', '_', 'وذل', 'عامحيث', 'بدأ', 'صل', 'دشت', 'كول', 'ديبورتيفو', 'تور', 'اخي', 'قدة', 'نسب', 'انا', 'صار', 'غرب', 'يعز', 'ريخ', 'أسف', 'لقتش', 'بتع', 'بسو', 'تمش', 'ملفات_المكررة', 'قرح', 'نايلة_الصليبي', 'حسن', 'عنه', 'عصر', 'ابس', 'فخر', 'عشت', 'زمن', 'وكريستيانو', 'لام', 'ىمج', 'اذو', 'حبش', 'حولو', 'لسم', 'ضلو', 'سحب', 'جوب', 'يون', 'وكا', 'يمكن', 'اما', 'بثرررررر', 'رهند', 'جرند', 'حبب', 'حبو', 'زيي', 'وري', 'طبع', 'حرم', 'بغر', 'بلر', 'اسف', 'كرا', 'اضي', 'واه', 'بيئ', 'جدآ', 'جبتو', 'تحو', 'فشت', 'وله', 'صري', 'فالتليفزي', 'جل', 'هزج', 'لقم', 'ويه', 'بري', 'كريستيانو', 'بيل', 'مارادو', 'افضل_طقم_لروجر_فيدرر', 'رول', 'غرس', 'رال', 'ابي', 'ويندوزكيف', 'كايت_بلانشيت', 'غوتشيخلال', 'اسبوع_الموضة', 'دلخ', 'عالمبروس', 'ريق', 'عطل', 'زر', 'لوح', 'مفاتيح', 'تطفل', 'فت', 'هرى', 'كله', 'هشف', 'تنى', 'انهارداعااااااااش', 'فلن', 'جنس', 'قديمةفمونيكا', 'يهد', 'افضح', 'عقد', 'ينغ', 'بقى', 'اظن', 'جزم', 'سيك', 'نصب', 'عطي', 'أدء', 'مناظرة_الثانية', 'كلينتونvsترامب', 'يسب', 'دين', 'زال', 'ليل', 'مجروحآ', 'لده', 'خسر', 'غمر', 'هجم', 'عئل', 'خصوصآ', 'تتر', 'فصل', 'جلي', 'جول', 'زوج', 'سحق', 'ؤسس', 'كير', 'خون', 'تمل', 'جوز', 'خير', 'عيز', 'نهم', 'ايه', 'لرى', 'شنب', 'امريكيهالانتخاب', 'حال', 'صرع', 'جهل', 'ثقافهلكن', 'نتن', 'رق', 'حذف', 'ملف', 'عصي', 'احا', 'وجه', 'نظ', 'برت', 'بطة', 'طلعل', 'تحل', 'تغر', 'قنع', 'راح', 'صفراء', 'يتي', 'جاء', 'خرج', 'ريض', 'صدك', 'لاب', 'توب', 'وإنييستا', 'كيتس', 'عدو', 'فهم', 'كيك', 'ايض', 'قرب', 'باق', 'عدم', 'يعن', 'جرأ', 'وهن', 'عيب', 'دفاعواحدة', 'فقد', 'روب_المحبه_والمودهقروب_فيدرر_للدعمسقى', 'جـساد', 'رضى', 'عـف', 'قبر', 'ـوتى', 'رحم', 'سـع', 'تطر', 'لءم', 'تان', 'ونر', 'بن', 'غب', 'سهم', 'خفض', 'ديز', 'رغب', 'شره', 'معقوووولة', 'هالحجم', 'هاللاعب', 'شلن', 'تبي', 'مونديال', 'وأن', 'بدن', 'ضاااااايع', 'ارجنتين_البارغواي', 'محن', 'هييييح', 'ديميتروف', 'لحد', 'طاع', 'غلب', 'علىنادالجوكوفيتشمورايفافرينكال', 'سطع', 'سحرروووووجير', 'يف', 'يوج', 'يوتيوبكانت', 'بأل', 'ضمت', 'غوغلوأنجبت', 'بعدماأصبحت', 'رئيسةيوتيوبغوغل', 'كاراج', 'اهد', 'دقة', 'كامير', 'كسل', 'قون', 'كفل', 'لأن', 'لبس', 'عبي', 'خفء', 'حق', 'حرش', 'سلق', 'فتاه_تضرب_متحرش', 'واشنطن_افتعلتسبتمبر', 'عليها', 'غنس', 'ضد', 'سوف', 'ويف', 'كرم', 'كست', 'لرا', 'اقي', 'فانتاستيك', 'يتس', 'وير', 'تو', 'يند', 'ذيم', 'قيل', 'قصة', 'بـس', 'خخخير', 'يخن', 'تره', 'لفز', 'شدد', 'هيلاري_كلنت', 'دونالد_ترامب', 'ايمد', 'كيفكالحريه', 'خربط', 'كبي', 'بشي', 'ليك', 'حيت', 'شعر', 'آخرو', 'عهد', 'ابن', 'همم', 'بسط', 'تجد', 'ادل', 'قدو', 'فيدررونادال', 'كتف', 'سير', 'صعب', 'جهو', 'روج', 'زمب', 'إعتراف', 'صحراء_الغربية', 'علق', 'أرج', 'شتء', 'مطر', 'يندوزاحسن', 'منو', 'لنيويورك', 'يمز', 'حظظ', 'TVظل', 'جنح', 'طئر', 'هبط', 'كلينتونمصور', 'ظل', 'غزل', 'بوم', 'سجل', 'قوا', 'إطلاق', 'فرد', 'بكاميرته', 'قرن', 'تعل', 'بتق', 'ط', 'حلب', 'تلق', 'تحت', 'صرخ', 'جط', 'قصف', 'حلف', 'صلة', 'نقد', 'شفه', 'وال', 'جرد', 'حشر', 'طهر', 'رقب', 'فجأ', 'فياكتوبر', 'جري', 'هتقدر', 'فتح', 'عين', 'ابك', 'شجر', 'ضفدع', 'ميخييييس', 'غاء_متابعه_', 'لسعووديات_مرهلاتساع', 'غوتشيمع', 'خوا', 'عمم', 'شعبول', 'بلل', 'عظيمكتبت', 'سفل', 'عراقفكانت', 'Beastsسلسلة', 'هتبقااجزاءاللي', 'حد', 'هتم', 'مكن', 'سلس', 'هائيفيدرر', 'لمر', 'رسل', 'سجن', 'ثور_قادح', 'شرى', 'حل', 'شرف', 'سن', 'ويكيليكس', 'مهم', 'لند', 'يخص', 'بطر', 'Oحرام', 'Pنقط', 'نقط', 'عجز', 'لسن', 'تقد', 'عوذ', 'لغت', 'تأت', 'بصغ', 'غصب', 'يخل', 'مجد', 'دوم', 'غول', 'مول', 'سم', 'سكش', 'نطلاق_سعوديات_ضد_الاسقاط', 'رأه', 'حلم', 'تصر', 'ولة', 'دول', 'ن', 'فضو', 'ملل', 'نطر', 'ديشامب', 'ماكوووو', 'سرب', 'لويكيليكس', 'صدر', 'اشد', 'ايديولوجي', 'طرف', 'بدو', 'عدا', 'سمر', 'طول', 'طرح', 'سني', 'هواتفالاخبار_التقنية', 'نهت', 'حفل', 'فقع', 'شرء', 'برر', 'قوة', 'فهش', 'نصي', 'هوه', 'لرج', 'كلهم', 'ابض', 'توج', 'دعو', 'ؤمر', 'خاص', 'بويندوزفيأكتوبر', 'رؤة', 'ويندوزوتحديثاته', 'يعل', 'حبت', 'ادق', 'شنق', 'اتجاهلوفاشن', 'جدة', 'دوح', 'دبي', 'لكل', 'يسا', 'صولو', 'ديانتو', 'شاء', 'يكون', 'اهل', 'نول', 'نهئ', 'ةبعد', 'جو', 'ونج', 'يزة', 'بزز', 'ابل', 'يعشقهاالسياح', 'على', 'قمة', 'قطر', 'لفر', 'تسق', 'سكن', 'ودد', 'سطء', 'تشف', 'ى', 'عمو', 'ويندوزكله', 'غيرى', 'وخليهااحسن', 'شتق', 'برز', 'سرح', 'بيب', 'غوارديولا', 'خبئ', 'ـغوغل', 'صحف', 'حقك', 'رطو', 'لقه', 'حلة', 'ديو', 'تم', 'عشق', 'اطر', 'ول', 'اخف', 'دوب', 'درج', 'انم', 'داي', 'تضح', 'هالسالفه', 'هذي', 'فضي', 'ويندوزويقدر', 'وكم', 'لعالمالقصة', 'سنة', 'بروفيسور', 'شنط', 'خلق', 'طرد', 'هوقوورتس', 'سفر', 'اهو', 'يذر', 'ضخم', 'لجئ', 'اكد', 'صعد', 'وتر', 'نمو', 'عكس', 'وبف', 'لول', 'يدد', 'جوكوفيتش', 'ومر', 'زبط', 'غرت', 'تله', 'تقص', 'صبغ', 'وااااااال', 'و_المغردين_لاعب', 'شارابوفا', 'ديل', 'ترو', 'جاى', 'فى', 'فلش', 'اعت', 'هبل', 'شوف', 'حمض', 'حلو', 'شتى', 'بقع', 'ارض', 'رجء', 'يصت', 'شكر', 'مستوياته', 'يكف', 'خصم', 'كتل', 'كثف', 'وبن', 'أنق', 'ولر', 'شهي', 'تربع', 'عرش', 'يحتاجدقيقة', 'شحن', 'وجر', 'بإذ', 'استراليانولي', 'درد', 'رومانولي', 'افضل_مباراة_', 'منذاسبوع', 'حدد', 'توبنهاية_هيمنة', 'افضل_طقم_لروجر_فيدررالابيض', 'ملكياصلا', 'ندق', 'عدد', 'أخر', 'غاء', 'وعد', 'عترف', 'تفتخرافضحك', 'بلس', 'فاز', 'تصدر', 'مانختلف', 'اشء', 'يفن', 'غوغلأولا', 'ايفانكا_ترامب', 'بدر', 'حتج', 'سهو', 'بكي', 'ربر', 'افضل_مباراة_تنس_شاهدتهاويمبلد', 'ترا', 'ذنب', 'زليب', 'اح', 'شلخو', 'مجن', 'ططططححححااااالللببوبتشوف', 'افضل_مباراة_تنس_شاهدتهافيدرر', 'نص', 'رنس', 'جهت', 'تصل', 'يكو', 'جيء', 'دييغو', 'يمو', 'ادر', 'لنه', 'ركب', 'خطا', 'انتقاداته', 'سيد', 'هرب', 'ضرب', 'نوب', 'ترقع', 'شت', 'كور', 'شن', 'جق', 'جون', 'جوم', 'بق', 'ققق', 'هيا', 'منج', 'افر', 'سئل', 'يتم', 'لرياضةالتنس', 'عوم', 'رد', 'فافرينكا', 'بصح', 'ولن', 'نسى', 'خين', 'وسر', 'تمس', 'جيل', 'حبه', 'تحب', 'رشلو', 'يشر', 'بطولة_مبادلة', 'ابوظبياتمنى', 'زبل', 'سوي', 'شىء', 'احس', 'جرة', 'ظوظ', 'حزب', 'ديموقراطي', 'برح', 'اتي', 'يته', 'حري', 'اجد', 'جمهوريالفرق', 'وبين', 'عدء', 'ويندوزبدعم', 'نصة', 'دعى', 'يشف', 'ردة', 'شرع', 'يقم', 'قال', 'بأن', 'غـوغل', 'يؤم', 'راة', 'امة', 'كرت', 'جيبل', 'وين', 'الق', 'افضل_طقم_لروجر_فيدررحرام', 'كشخهودائ', 'فيدريروهذا', 'عنى', 'شكب', 'شرح', 'ض', 'عصب', 'تعه', 'عظييم', 'اكر', 'الب', 'طأ', 'فدح', 'كلف', 'غوغلالف', 'دولار', 'عنم', 'خيس', 'نبي', 'صحي', 'موب', 'يمك', 'ليو', 'سمح', 'ونف', 'هالجحلط', 'بلز', 'اشب', 'عمي', 'قدرش', 'شيب', 'بوز', 'اضم', 'رحة', 'يور', 'شوط', 'شف', 'حمس', 'دتي', 'ربم', 'عهم', 'ضيح', 'تؤد', 'وظف', 'نشط', 'عتز', 'عبدالفتاحالمناظرة', 'ش_ب', 'عمد', 'ينا', 'سيح', 'لاي', 'بغى', 'مني', 'تجي', 'لاث', 'بسف', 'نوك', 'كدي', 'غدا', 'ربعاء', 'مره', 'عفه', 'صبه', 'سعه', 'لنب', 'وهماتيم_ك', 'نئب', 'لهيلاري_كلنتونمايك_بنس', 'لدونالد_ترامب', 'جيفنش', 'تصفح', 'ضفة', 'هنك', 'شهر', 'فضل_مباراة_تنس_شاهدت', 'مباراةفيدرر', 'ايكروسوفت', 'اختيارية', 'يلغ', 'ويندوزوكل', 'ملحقاتهحمل', 'هون', 'خيووريتويت', 'خونج', 'يؤد', 'ورة', 'لـ', 'يقو', 'كوبريأكتوبر', 'تلة', 'عها', 'بدع', 'خراف', 'شطر', 'ترح', 'أهبل', 'هيك', 'ويمبلدونفيدرر', 'وجوكوفيتش', 'ويمبلدوننادال', 'استرالياوفرنسا', 'لمايسترو', 'عوز', 'فن', 'جذب', 'د_عمر_المحمد', 'شار', 'ت', 'وبل', 'يال', 'تدر', 'جنط', 'شانيل', 'معا', 'جوت', 'وبك', 'لوس', 'فيت', 'عبدالل', 'فتح_الشام', 'درع', 'زمنالآيفونالأنترنتبرشلونةديورهاري', 'بوترديزنيبوينغماكدونالد', 'مدد', 'أحدبل', 'وحاجاتنابالحضارة', 'كون', 'عبء', 'حقة', 'ورح', 'اعش', 'يقض', 'ورء', 'كمر', 'نثر', 'جوء', 'دولتش', 'غبا', 'غيس', 'لغر', 'أكثر', 'حيك', 'ههههههههههههههههه', 'حذر', 'نعنبوزينهلقطة', 'حزن', 'ادب', 'يحط', 'خطن', 'مرر', 'كتشفمعلوم', 'رأي', 'يت', 'RTكريس', 'Idolازياء', 'كرس', 'اخيرهحذاءه', 'ديداس', 'اوريجنال', 'يأخ', 'مبارياته', 'لشط', 'فهد_المولد', 'ميسييضيعإنفراد', 'فان', 'سنو', 'رمت', 'رما', 'نا', 'يلف', 'فين', 'عطج', 'سول', 'روح', 'جبه', 'ليه', 'ورم', 'ازر', 'يطر', 'وبر', 'مان', 'شمز', 'ولو', 'كسر', 'خضر', 'يزر', 'ترل', 'نضر', 'الأ', 'قوى', 'عالمنسخة', 'سطو', 'غتم', 'ومو', 'اير', 'قمت', 'غال', 'غدت', 'له_درك_يا_غوغل', 'شو', 'رضو', 'غاروسنولي', 'أشر', 'بيد', 'قريبامافيش', 'يعو', 'ردء', 'تخف', 'تاع', 'رنب', 'باش', 'مايضيعش', 'زيء', 'قصر', 'سهل', 'قوج', 'حرك', 'ينج', 'زاج', 'روجر', 'بمستوىبصوت', 'كاب', 'محلااااته', 'رووجر', 'لتي', 'رأت', 'أطلب', 'هى', 'عز', 'شبب', 'يصغ', 'اتت', 'قطع', 'لإستعراض', 'وخذ', 'الو', 'قمش', 'رمد', 'قرمز', 'فضة', 'ميد', 'عجججججججيب', 'هالانس', 'ومن', 'اطلع', 'هوش', 'فام', 'كلنتونوالسببانه', 'يعط', 'كوارثل', 'اأظ', 'اكب', 'نشف', 'شرت', 'مضم', 'باب', 'جبت', 'غلف', 'ويندوزتسير', 'صحح', 'حذي', 'نيك', 'ثوي', 'ستا', 'وصو', 'غو', 'سنب', 'ائم', 'ويندوزنسخة', 'ش', 'صرر', 'تفز', 'سر', 'لحا', 'كئب', 'تيل', 'جكب', 'عال', 'جود', 'يطل', 'غوتشيتسوق', 'رود', 'ويمبليافضل_مباراة_تنس_شاهدت', 'استهدافه', 'عبو', 'نسف', 'غدر', 'درعا_البلد', 'هنئ', 'مآيسترو', 'يزد', 'فخاآامةة', 'هالطقم', 'هههههههههههههه', 'اجب', 'تهل', 'قوي', 'عنصر', 'خرف', 'خذل', 'مدح', 'ايخش', 'نكر', 'ديم', 'فتو', 'خلب', 'كيبورد', 'رئة', 'اكش', 'كين', 'تشك', 'ات', 'اون', 'حنى', 'سمو', 'هرمى', 'داك', 'ديرو', 'عيد', 'فيش', 'ال', 'فقر', 'رقص', 'يبق', 'كلس', 'كدة', 'خر', 'صيح', 'الد', 'فند', 'جهن', 'امريكاسواء', 'فكل', 'بخط', 'باري_غاليري', 'نجوى_محمد', 'خبيرة_التجميل', 'بيع', 'يومسبتمبر', 'ئيمع', 'عمق', 'وجاذبيةاحصلي', 'نقطة_الأناقة', 'ملج', 'هتر', 'رمى', 'عملاق', 'وصي', 'ويندوزالجديد', 'خطؤ', 'حبي', 'ارث', 'وسخ', 'دنا', 'لعن', 'نفق', 'رءس', 'صهو', 'شور', 'لغة', 'ويندوزمشكله', 'تجه', 'هدا', 'أمام', 'فرع', 'ماب', 'كان', 'نتر', 'ديمقراطي', 'غيل', 'سنج', 'باغتياله', 'تأد', 'لهذا', 'ينو', 'اهذ', 'دلل', 'حرب', 'نطق', 'حيء', 'ليب', 'كرويف', 'يوه', 'ركل', 'لحظ', 'يندوزبيعمل', 'حجه', 'خيف', 'مرا', 'تأثر', 'هييه_رادع_لكل_اعدا_الوطن', 'هدد', 'يجب', 'يحا', 'سيويندوز', 'لانهائية', 'دامساع', 'اشت', 'صاص', 'يمد', 'أهل', 'زدد', 'قروب_المملكة_للدعمفيصل_الراشد_للدعمقروب_فيدررقروب_مختلف_للدعمقروب_احساس_شاعر', 'لوك', 'نقه', 'قمص', 'تاي', 'شفق', 'فهي', 'ضطر', 'خبل', 'طن_حر', 'رلم', 'رشق', 'بته', 'قله', 'حطم', 'تنه', 'تسي', 'ورص', 'ركس', 'بلغ', 'لحج', 'ازل', 'شيئ', 'يضع', 'بلن', 'نكب', 'لقب', 'وماسكيرانو', 'بار', 'راس', 'هقا', 'رحب', 'خبط', 'ميبقاش', 'فضل_مباراة_تنس_شاهدتهافيدرر', 'نادالنهائي', 'روم', 'لمح', 'سوم', 'ذيع', 'خدع', 'ارة', 'ذسن', 'رفاييل', 'افضللاعب', 'اربعمائة', 'ملي', 'ويندوزبشكل', 'تش', 'ناااااااااااار', 'يسى', 'وباراجواي', 'صير', 'توايلايت', 'قرص', 'كاريب', 'اهلي_برشلونهميسي', 'كزي', 'سبر', 'هيب', 'غيثاتمنى', 'ويا', 'ندز', 'همنسخ', 'يزو', 'اهم', 'مزا', 'همة', 'لويندوزالسنة', 'خصة', 'حسي', 'عوة', 'الس', 'قصد', 'غية', 'فشئ', 'لسعوديه_الاماراتميسي', 'عشر', 'كاسانو', 'اذا', 'نهض', 'دائ', 'طار', 'ستش', 'باستخدام', 'بدت', 'ماش', 'ضعت', 'تاريخالاحداكتوبر', 'ساعهبتوقيت', 'اثن', 'بوك', 'فمس', 'قود', 'Windowsالنسخة', 'ويندوزباللغة', 'انكليزية', 'JEAميز', 'ويندوزلتح', 'صلاحياتأمن_المعلوم', 'دون', 'لاك', 'درة', 'ناو', 'روبيرت_دنيرو', 'دانيال', 'رادكليف', 'عان', 'تقم', 'إنشاء', 'وهم', 'طوارىء', 'قاذ', 'سطح', 'اى', 'تشغ', 'خدمات_إعلانية_متكاملة', 'تسويق_إعلاناتحملات_إعلانيةفيسبوك', 'نشر_إعلانك', 'قروبات_و', 'ضحك', 'منتخباجمالي', 'اهدافكريسميسيالرسمية', 'منهاكريسميسيالودية', 'منهاكريسميسيالا', 'بشهركريستيانو', 'كاس', 'ديه', 'قاراتميسي', 'نري', 'لغث', 'حمد', 'امن', 'ربن', 'يخلهوللللللك', 'نقت', 'مبل', 'بغي', 'رأك', 'إطلال', 'سيم', 'ارف', 'لبج', 'لبو', 'شرفج', 'يالعاهرة', 'نكم', 'عملائ', 'عرق', 'جوس', 'لاتستصغرو', 'صخر', 'روش', 'بعن', 'انر', 'كانرف', 'لبن', 'جده', 'مدن', 'شنط_فندي_بولغاري_غوتشي_روبرتو_كفالي', 'شنط_فندي', 'شنط_تقليد_درجه_اولى', 'شنط_بنات_الجامعة', 'اغبي_سوال_كتبته_بقوقل', 'إيجاد', 'اغا', 'اعرفهاأكتب', 'لقط', 'غني']\n",
            "Word2Vec(vocab=2192, size=100, alpha=0.025)\n"
          ],
          "name": "stdout"
        },
        {
          "output_type": "stream",
          "text": [
            "/usr/local/lib/python3.7/dist-packages/ipykernel_launcher.py:7: DeprecationWarning: Call to deprecated `syn0` (Attribute will be removed in 4.0.0, use self.wv.vectors instead).\n",
            "  import sys\n"
          ],
          "name": "stderr"
        }
      ]
    },
    {
      "cell_type": "code",
      "metadata": {
        "id": "qlUFmM-Brzne"
      },
      "source": [
        "from sklearn.feature_extraction.text import TfidfVectorizer\n",
        "from collections import defaultdict\n",
        "\n",
        "\n",
        "## define two classes to write functions of fit & transform (to be able to include w2v in pipeline)\n",
        "class MeanEmbeddingVectorizer(object):\n",
        "    def __init__(self, word2vec):\n",
        "        self.word2vec = word2vec\n",
        "        # if a text is empty we should return a vector of zeros\n",
        "        # with the same dimensionality as all the other vectors\n",
        "        self.dim = len(word2vec.items())\n",
        "\n",
        "    def fit(self, X, y):\n",
        "        return self\n",
        "\n",
        "    def transform(self, X):\n",
        "        return np.array([\n",
        "            np.mean([self.word2vec[w] for w in words if w in self.word2vec]\n",
        "                    or [np.zeros(self.dim)], axis=0)\n",
        "            for words in X\n",
        "        ])\n",
        "    \n",
        "    \n",
        "class TfidfEmbeddingVectorizer(object):\n",
        "    def __init__(self, word2vec):\n",
        "        self.word2vec = word2vec\n",
        "        self.word2weight = None\n",
        "        self.dim = len(word2vec.items())\n",
        "\n",
        "    def fit(self, X, y):\n",
        "        tfidf = TfidfVectorizer(analyzer=lambda x: x)\n",
        "        tfidf.fit(X)\n",
        "        # if a word was never seen - it must be at least as infrequent\n",
        "        # as any of the known words - so the default idf is the max of \n",
        "        # known idf's\n",
        "        max_idf = max(tfidf.idf_)\n",
        "        self.word2weight = defaultdict(\n",
        "            lambda: max_idf,\n",
        "            [(w, tfidf.idf_[i]) for w, i in tfidf.vocabulary_.items()])\n",
        "\n",
        "        return self\n",
        "\n",
        "    def transform(self, X):\n",
        "        return np.array([\n",
        "                np.mean([self.word2vec[w] * self.word2weight[w]\n",
        "                         for w in words if w in self.word2vec] or\n",
        "                        [np.zeros(self.dim)], axis=0)\n",
        "                for words in X\n",
        "            ])\n",
        "    "
      ],
      "execution_count": 16,
      "outputs": []
    },
    {
      "cell_type": "code",
      "metadata": {
        "id": "UehLlh9Sr6g4"
      },
      "source": [
        ""
      ],
      "execution_count": null,
      "outputs": []
    },
    {
      "cell_type": "code",
      "metadata": {
        "id": "ROLSpuP5r6ju"
      },
      "source": [
        "from sklearn.svm import SVC\n",
        "from sklearn.neighbors import KNeighborsClassifier\n",
        "from sklearn.tree import DecisionTreeClassifier\n",
        "from sklearn.ensemble import RandomForestClassifier, AdaBoostClassifier\n",
        "\n",
        "scv_clf = SVC()\n",
        "DT_clf = DecisionTreeClassifier(criterion='entropy', max_depth=4)\n",
        "Ada_clf = AdaBoostClassifier(n_estimators=100)\n",
        "KNN_clf = KNeighborsClassifier( n_neighbors=5)\n",
        "RF_clf = RandomForestClassifier()"
      ],
      "execution_count": 17,
      "outputs": []
    },
    {
      "cell_type": "code",
      "metadata": {
        "id": "Intes7ffr-ch"
      },
      "source": [
        "from sklearn.metrics import classification_report  \n",
        "def print_measures(y_test, y_pred):\n",
        "    print(classification_report(y_test, y_pred))"
      ],
      "execution_count": 18,
      "outputs": []
    },
    {
      "cell_type": "code",
      "metadata": {
        "colab": {
          "base_uri": "https://localhost:8080/",
          "height": 243
        },
        "id": "sxKxes79sDl-",
        "outputId": "9d649af6-efd2-4eb0-c349-01a3923562fa"
      },
      "source": [
        "from sklearn.pipeline import Pipeline\n",
        "from sklearn.tree import DecisionTreeClassifier\n",
        "import numpy as np\n",
        "\n",
        "X_train = np.asarray(X_train, dtype='object')\n",
        "\n",
        "#Define Pipeline\n",
        "\n",
        "word2vec_pipeline = MeanEmbeddingVectorizer(w2v)\n",
        "\n",
        "#train\n",
        "word2vec_pipeline.fit(X_train,y_train)\n",
        "y=DecisionTreeClassifier.fit(X_train,y_train)\n",
        "\n",
        "\n",
        "#test\n",
        "print('For word2vec__pipeline')\n",
        "print_measures(y_test, y)\n"
      ],
      "execution_count": 34,
      "outputs": [
        {
          "output_type": "error",
          "ename": "TypeError",
          "evalue": "ignored",
          "traceback": [
            "\u001b[0;31m---------------------------------------------------------------------------\u001b[0m",
            "\u001b[0;31mTypeError\u001b[0m                                 Traceback (most recent call last)",
            "\u001b[0;32m<ipython-input-34-fec264acfed1>\u001b[0m in \u001b[0;36m<module>\u001b[0;34m()\u001b[0m\n\u001b[1;32m     11\u001b[0m \u001b[0;31m#train\u001b[0m\u001b[0;34m\u001b[0m\u001b[0;34m\u001b[0m\u001b[0;34m\u001b[0m\u001b[0m\n\u001b[1;32m     12\u001b[0m \u001b[0mword2vec_pipeline\u001b[0m\u001b[0;34m.\u001b[0m\u001b[0mfit\u001b[0m\u001b[0;34m(\u001b[0m\u001b[0mX_train\u001b[0m\u001b[0;34m,\u001b[0m\u001b[0my_train\u001b[0m\u001b[0;34m)\u001b[0m\u001b[0;34m\u001b[0m\u001b[0;34m\u001b[0m\u001b[0m\n\u001b[0;32m---> 13\u001b[0;31m \u001b[0my\u001b[0m\u001b[0;34m=\u001b[0m\u001b[0mDecisionTreeClassifier\u001b[0m\u001b[0;34m.\u001b[0m\u001b[0mfit\u001b[0m\u001b[0;34m(\u001b[0m\u001b[0mX_train\u001b[0m\u001b[0;34m,\u001b[0m\u001b[0my_train\u001b[0m\u001b[0;34m)\u001b[0m\u001b[0;34m\u001b[0m\u001b[0;34m\u001b[0m\u001b[0m\n\u001b[0m\u001b[1;32m     14\u001b[0m \u001b[0;34m\u001b[0m\u001b[0m\n\u001b[1;32m     15\u001b[0m \u001b[0;34m\u001b[0m\u001b[0m\n",
            "\u001b[0;31mTypeError\u001b[0m: fit() missing 1 required positional argument: 'y'"
          ]
        }
      ]
    },
    {
      "cell_type": "code",
      "metadata": {
        "colab": {
          "base_uri": "https://localhost:8080/",
          "height": 576
        },
        "id": "tdCuqYFUgaDK",
        "outputId": "b469314f-f79d-44a8-8f55-3abd84dd1175"
      },
      "source": [
        "from transformers import DistilBertConfig, TFDistilBertModel\n",
        "import tensorflow as tf\n",
        "\n",
        "distile_bert='arabert-base-uncased'\n",
        "\n",
        "config=DistilBertConfig(dropout=0.2, attention_dropout=0.2)\n",
        "config.output_hiddenstates=False\n",
        "transformer_model=TFDistilBertModel.from_pretrained(distile_bert, config=config)\n",
        "\n",
        "input_ids_in= tf.keras.layers.Input(shape=(100,), name='input_token', dtype=('int32'))\n",
        "\n",
        "\n",
        "embedding_layer=transformer_model(input_ids_in, attention_mask=input_masks_in)[0]\n",
        "cls_token=embedding_layer[:,0,:]\n",
        "X=tf.keras.layers.BatchNormalization()(cls_token)\n",
        "X=tf.keras.layers.Dense(100,activation='relu')(X)\n",
        "X=tf.keras.layers.Dropout(0.2)(X)\n",
        "X=tf.keras.layers.Dense(6,activation='softmax')(X)\n",
        "model=tf.keras.Model(inputs=[input_ids_in], outputs =X)\n",
        "model.predict(\"ahmad\")"
      ],
      "execution_count": 31,
      "outputs": [
        {
          "output_type": "stream",
          "text": [
            "404 Client Error: Not Found for url: https://huggingface.co/arabert-base-uncased/resolve/main/tf_model.h5\n"
          ],
          "name": "stderr"
        },
        {
          "output_type": "error",
          "ename": "OSError",
          "evalue": "ignored",
          "traceback": [
            "\u001b[0;31m---------------------------------------------------------------------------\u001b[0m",
            "\u001b[0;31mHTTPError\u001b[0m                                 Traceback (most recent call last)",
            "\u001b[0;32m/usr/local/lib/python3.7/dist-packages/transformers/modeling_tf_utils.py\u001b[0m in \u001b[0;36mfrom_pretrained\u001b[0;34m(cls, pretrained_model_name_or_path, *model_args, **kwargs)\u001b[0m\n\u001b[1;32m   1247\u001b[0m                     \u001b[0muse_auth_token\u001b[0m\u001b[0;34m=\u001b[0m\u001b[0muse_auth_token\u001b[0m\u001b[0;34m,\u001b[0m\u001b[0;34m\u001b[0m\u001b[0;34m\u001b[0m\u001b[0m\n\u001b[0;32m-> 1248\u001b[0;31m                     \u001b[0muser_agent\u001b[0m\u001b[0;34m=\u001b[0m\u001b[0muser_agent\u001b[0m\u001b[0;34m,\u001b[0m\u001b[0;34m\u001b[0m\u001b[0;34m\u001b[0m\u001b[0m\n\u001b[0m\u001b[1;32m   1249\u001b[0m                 )\n",
            "\u001b[0;32m/usr/local/lib/python3.7/dist-packages/transformers/file_utils.py\u001b[0m in \u001b[0;36mcached_path\u001b[0;34m(url_or_filename, cache_dir, force_download, proxies, resume_download, user_agent, extract_compressed_file, force_extract, use_auth_token, local_files_only)\u001b[0m\n\u001b[1;32m   1278\u001b[0m             \u001b[0muse_auth_token\u001b[0m\u001b[0;34m=\u001b[0m\u001b[0muse_auth_token\u001b[0m\u001b[0;34m,\u001b[0m\u001b[0;34m\u001b[0m\u001b[0;34m\u001b[0m\u001b[0m\n\u001b[0;32m-> 1279\u001b[0;31m             \u001b[0mlocal_files_only\u001b[0m\u001b[0;34m=\u001b[0m\u001b[0mlocal_files_only\u001b[0m\u001b[0;34m,\u001b[0m\u001b[0;34m\u001b[0m\u001b[0;34m\u001b[0m\u001b[0m\n\u001b[0m\u001b[1;32m   1280\u001b[0m         )\n",
            "\u001b[0;32m/usr/local/lib/python3.7/dist-packages/transformers/file_utils.py\u001b[0m in \u001b[0;36mget_from_cache\u001b[0;34m(url, cache_dir, force_download, proxies, etag_timeout, resume_download, user_agent, use_auth_token, local_files_only)\u001b[0m\n\u001b[1;32m   1441\u001b[0m             \u001b[0mr\u001b[0m \u001b[0;34m=\u001b[0m \u001b[0mrequests\u001b[0m\u001b[0;34m.\u001b[0m\u001b[0mhead\u001b[0m\u001b[0;34m(\u001b[0m\u001b[0murl\u001b[0m\u001b[0;34m,\u001b[0m \u001b[0mheaders\u001b[0m\u001b[0;34m=\u001b[0m\u001b[0mheaders\u001b[0m\u001b[0;34m,\u001b[0m \u001b[0mallow_redirects\u001b[0m\u001b[0;34m=\u001b[0m\u001b[0;32mFalse\u001b[0m\u001b[0;34m,\u001b[0m \u001b[0mproxies\u001b[0m\u001b[0;34m=\u001b[0m\u001b[0mproxies\u001b[0m\u001b[0;34m,\u001b[0m \u001b[0mtimeout\u001b[0m\u001b[0;34m=\u001b[0m\u001b[0metag_timeout\u001b[0m\u001b[0;34m)\u001b[0m\u001b[0;34m\u001b[0m\u001b[0;34m\u001b[0m\u001b[0m\n\u001b[0;32m-> 1442\u001b[0;31m             \u001b[0mr\u001b[0m\u001b[0;34m.\u001b[0m\u001b[0mraise_for_status\u001b[0m\u001b[0;34m(\u001b[0m\u001b[0;34m)\u001b[0m\u001b[0;34m\u001b[0m\u001b[0;34m\u001b[0m\u001b[0m\n\u001b[0m\u001b[1;32m   1443\u001b[0m             \u001b[0metag\u001b[0m \u001b[0;34m=\u001b[0m \u001b[0mr\u001b[0m\u001b[0;34m.\u001b[0m\u001b[0mheaders\u001b[0m\u001b[0;34m.\u001b[0m\u001b[0mget\u001b[0m\u001b[0;34m(\u001b[0m\u001b[0;34m\"X-Linked-Etag\"\u001b[0m\u001b[0;34m)\u001b[0m \u001b[0;32mor\u001b[0m \u001b[0mr\u001b[0m\u001b[0;34m.\u001b[0m\u001b[0mheaders\u001b[0m\u001b[0;34m.\u001b[0m\u001b[0mget\u001b[0m\u001b[0;34m(\u001b[0m\u001b[0;34m\"ETag\"\u001b[0m\u001b[0;34m)\u001b[0m\u001b[0;34m\u001b[0m\u001b[0;34m\u001b[0m\u001b[0m\n",
            "\u001b[0;32m/usr/local/lib/python3.7/dist-packages/requests/models.py\u001b[0m in \u001b[0;36mraise_for_status\u001b[0;34m(self)\u001b[0m\n\u001b[1;32m    940\u001b[0m         \u001b[0;32mif\u001b[0m \u001b[0mhttp_error_msg\u001b[0m\u001b[0;34m:\u001b[0m\u001b[0;34m\u001b[0m\u001b[0;34m\u001b[0m\u001b[0m\n\u001b[0;32m--> 941\u001b[0;31m             \u001b[0;32mraise\u001b[0m \u001b[0mHTTPError\u001b[0m\u001b[0;34m(\u001b[0m\u001b[0mhttp_error_msg\u001b[0m\u001b[0;34m,\u001b[0m \u001b[0mresponse\u001b[0m\u001b[0;34m=\u001b[0m\u001b[0mself\u001b[0m\u001b[0;34m)\u001b[0m\u001b[0;34m\u001b[0m\u001b[0;34m\u001b[0m\u001b[0m\n\u001b[0m\u001b[1;32m    942\u001b[0m \u001b[0;34m\u001b[0m\u001b[0m\n",
            "\u001b[0;31mHTTPError\u001b[0m: 404 Client Error: Not Found for url: https://huggingface.co/arabert-base-uncased/resolve/main/tf_model.h5",
            "\nDuring handling of the above exception, another exception occurred:\n",
            "\u001b[0;31mOSError\u001b[0m                                   Traceback (most recent call last)",
            "\u001b[0;32m<ipython-input-31-43fc59db5070>\u001b[0m in \u001b[0;36m<module>\u001b[0;34m()\u001b[0m\n\u001b[1;32m      6\u001b[0m \u001b[0mconfig\u001b[0m\u001b[0;34m=\u001b[0m\u001b[0mDistilBertConfig\u001b[0m\u001b[0;34m(\u001b[0m\u001b[0mdropout\u001b[0m\u001b[0;34m=\u001b[0m\u001b[0;36m0.2\u001b[0m\u001b[0;34m,\u001b[0m \u001b[0mattention_dropout\u001b[0m\u001b[0;34m=\u001b[0m\u001b[0;36m0.2\u001b[0m\u001b[0;34m)\u001b[0m\u001b[0;34m\u001b[0m\u001b[0;34m\u001b[0m\u001b[0m\n\u001b[1;32m      7\u001b[0m \u001b[0mconfig\u001b[0m\u001b[0;34m.\u001b[0m\u001b[0moutput_hiddenstates\u001b[0m\u001b[0;34m=\u001b[0m\u001b[0;32mFalse\u001b[0m\u001b[0;34m\u001b[0m\u001b[0;34m\u001b[0m\u001b[0m\n\u001b[0;32m----> 8\u001b[0;31m \u001b[0mtransformer_model\u001b[0m\u001b[0;34m=\u001b[0m\u001b[0mTFDistilBertModel\u001b[0m\u001b[0;34m.\u001b[0m\u001b[0mfrom_pretrained\u001b[0m\u001b[0;34m(\u001b[0m\u001b[0mdistile_bert\u001b[0m\u001b[0;34m,\u001b[0m \u001b[0mconfig\u001b[0m\u001b[0;34m=\u001b[0m\u001b[0mconfig\u001b[0m\u001b[0;34m)\u001b[0m\u001b[0;34m\u001b[0m\u001b[0;34m\u001b[0m\u001b[0m\n\u001b[0m\u001b[1;32m      9\u001b[0m \u001b[0;34m\u001b[0m\u001b[0m\n\u001b[1;32m     10\u001b[0m \u001b[0minput_ids_in\u001b[0m\u001b[0;34m=\u001b[0m \u001b[0mtf\u001b[0m\u001b[0;34m.\u001b[0m\u001b[0mkeras\u001b[0m\u001b[0;34m.\u001b[0m\u001b[0mlayers\u001b[0m\u001b[0;34m.\u001b[0m\u001b[0mInput\u001b[0m\u001b[0;34m(\u001b[0m\u001b[0mshape\u001b[0m\u001b[0;34m=\u001b[0m\u001b[0;34m(\u001b[0m\u001b[0;36m100\u001b[0m\u001b[0;34m,\u001b[0m\u001b[0;34m)\u001b[0m\u001b[0;34m,\u001b[0m \u001b[0mname\u001b[0m\u001b[0;34m=\u001b[0m\u001b[0;34m'input_token'\u001b[0m\u001b[0;34m,\u001b[0m \u001b[0mdtype\u001b[0m\u001b[0;34m=\u001b[0m\u001b[0;34m(\u001b[0m\u001b[0;34m'int32'\u001b[0m\u001b[0;34m)\u001b[0m\u001b[0;34m)\u001b[0m\u001b[0;34m\u001b[0m\u001b[0;34m\u001b[0m\u001b[0m\n",
            "\u001b[0;32m/usr/local/lib/python3.7/dist-packages/transformers/modeling_tf_utils.py\u001b[0m in \u001b[0;36mfrom_pretrained\u001b[0;34m(cls, pretrained_model_name_or_path, *model_args, **kwargs)\u001b[0m\n\u001b[1;32m   1255\u001b[0m                     \u001b[0;34mf\"- or '{pretrained_model_name_or_path}' is the correct path to a directory containing a file named one of {TF2_WEIGHTS_NAME}, {WEIGHTS_NAME}.\\n\\n\"\u001b[0m\u001b[0;34m\u001b[0m\u001b[0;34m\u001b[0m\u001b[0m\n\u001b[1;32m   1256\u001b[0m                 )\n\u001b[0;32m-> 1257\u001b[0;31m                 \u001b[0;32mraise\u001b[0m \u001b[0mEnvironmentError\u001b[0m\u001b[0;34m(\u001b[0m\u001b[0mmsg\u001b[0m\u001b[0;34m)\u001b[0m\u001b[0;34m\u001b[0m\u001b[0;34m\u001b[0m\u001b[0m\n\u001b[0m\u001b[1;32m   1258\u001b[0m             \u001b[0;32mif\u001b[0m \u001b[0mresolved_archive_file\u001b[0m \u001b[0;34m==\u001b[0m \u001b[0marchive_file\u001b[0m\u001b[0;34m:\u001b[0m\u001b[0;34m\u001b[0m\u001b[0;34m\u001b[0m\u001b[0m\n\u001b[1;32m   1259\u001b[0m                 \u001b[0mlogger\u001b[0m\u001b[0;34m.\u001b[0m\u001b[0minfo\u001b[0m\u001b[0;34m(\u001b[0m\u001b[0;34mf\"loading weights file {archive_file}\"\u001b[0m\u001b[0;34m)\u001b[0m\u001b[0;34m\u001b[0m\u001b[0;34m\u001b[0m\u001b[0m\n",
            "\u001b[0;31mOSError\u001b[0m: Can't load weights for 'arabert-base-uncased'. Make sure that:\n\n- 'arabert-base-uncased' is a correct model identifier listed on 'https://huggingface.co/models'\n\n- or 'arabert-base-uncased' is the correct path to a directory containing a file named one of tf_model.h5, pytorch_model.bin.\n\n"
          ]
        }
      ]
    }
  ]
}